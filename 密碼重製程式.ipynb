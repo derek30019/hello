{
 "cells": [
  {
   "cell_type": "code",
   "execution_count": 10,
   "id": "e5f94132",
   "metadata": {},
   "outputs": [
    {
     "name": "stdout",
     "output_type": "stream",
     "text": [
      "請輸入密碼a123456\n",
      "登入成功\n"
     ]
    }
   ],
   "source": [
    "password = 'a123456'\n",
    "x = 1\n",
    "while x < 4:\n",
    "    answer = input(\"請輸入密碼\")\n",
    "    if answer == password:\n",
    "        print(\"登入成功\")\n",
    "        break\n",
    "    else:\n",
    "        print(\"密碼錯誤! 還有\",3-x,\"次機會\")\n",
    "        x = x+1"
   ]
  },
  {
   "cell_type": "code",
   "execution_count": null,
   "id": "8edc7d12",
   "metadata": {},
   "outputs": [
    {
     "name": "stdout",
     "output_type": "stream",
     "text": [
      "請輸入密碼5\n",
      "密碼錯誤! 還有 2 次機會\n"
     ]
    }
   ],
   "source": [
    "password = 'a123456'\n",
    "x = 3\n",
    "while x > 0:\n",
    "    x = x-1\n",
    "    answer = input(\"請輸入密碼\")\n",
    "    if answer == password:\n",
    "        print(\"登入成功\")\n",
    "        break\n",
    "    else:\n",
    "        print(\"密碼錯誤! 還有\",x,\"次機會\")\n",
    "        "
   ]
  },
  {
   "cell_type": "code",
   "execution_count": null,
   "id": "c4d5bbfb",
   "metadata": {},
   "outputs": [],
   "source": []
  }
 ],
 "metadata": {
  "kernelspec": {
   "display_name": "Python 3",
   "language": "python",
   "name": "python3"
  },
  "language_info": {
   "codemirror_mode": {
    "name": "ipython",
    "version": 3
   },
   "file_extension": ".py",
   "mimetype": "text/x-python",
   "name": "python",
   "nbconvert_exporter": "python",
   "pygments_lexer": "ipython3",
   "version": "3.8.8"
  }
 },
 "nbformat": 4,
 "nbformat_minor": 5
}
