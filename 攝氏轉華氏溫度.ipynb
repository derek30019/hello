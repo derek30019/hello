{
 "cells": [
  {
   "cell_type": "code",
   "execution_count": 1,
   "id": "31aaf2c8",
   "metadata": {},
   "outputs": [
    {
     "name": "stdout",
     "output_type": "stream",
     "text": [
      "請輸入攝氏溫度50\n",
      "華氏溫度為: 122.0\n"
     ]
    }
   ],
   "source": [
    "C = float(input(\"請輸入攝氏溫度\"))\n",
    "F = C * 9 / 5 + 32\n",
    "print(\"華氏溫度為:\", F)\n",
    "#if F == True:\n",
    "    "
   ]
  },
  {
   "cell_type": "code",
   "execution_count": null,
   "id": "6fc51545",
   "metadata": {},
   "outputs": [],
   "source": []
  }
 ],
 "metadata": {
  "kernelspec": {
   "display_name": "Python 3",
   "language": "python",
   "name": "python3"
  },
  "language_info": {
   "codemirror_mode": {
    "name": "ipython",
    "version": 3
   },
   "file_extension": ".py",
   "mimetype": "text/x-python",
   "name": "python",
   "nbconvert_exporter": "python",
   "pygments_lexer": "ipython3",
   "version": "3.8.8"
  }
 },
 "nbformat": 4,
 "nbformat_minor": 5
}
