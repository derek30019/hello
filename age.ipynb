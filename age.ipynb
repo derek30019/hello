{
 "cells": [
  {
   "cell_type": "code",
   "execution_count": 11,
   "id": "9833e6d0",
   "metadata": {},
   "outputs": [
    {
     "name": "stdout",
     "output_type": "stream",
     "text": [
      "請問你有開過車嗎有\n",
      "請問你幾歲8\n",
      "你怎麼可能有車開呢\n"
     ]
    }
   ],
   "source": [
    "driving = input('請問你有開過車嗎')\n",
    "if driving != \"有\" and driving != \"沒有\":\n",
    "    print(\"你只能輸入有或沒有\")\n",
    "    raise SystemExit\n",
    "age = int(input(\"請問你幾歲\"))\n",
    "if driving == \"有\":\n",
    "    if age >= 18:\n",
    "        print(\"恭喜你!\")\n",
    "    else:\n",
    "        print(\"你怎麼可能有車開呢\")\n",
    "elif driving == \"沒有\":\n",
    "    if age >= 18:\n",
    "        print(\"你可以嘗試看看!\")\n",
    "    else:\n",
    "        print(\"再過幾年就可以開了\")\n",
    "    \n"
   ]
  },
  {
   "cell_type": "code",
   "execution_count": null,
   "id": "073acfed",
   "metadata": {},
   "outputs": [],
   "source": []
  }
 ],
 "metadata": {
  "kernelspec": {
   "display_name": "Python 3",
   "language": "python",
   "name": "python3"
  },
  "language_info": {
   "codemirror_mode": {
    "name": "ipython",
    "version": 3
   },
   "file_extension": ".py",
   "mimetype": "text/x-python",
   "name": "python",
   "nbconvert_exporter": "python",
   "pygments_lexer": "ipython3",
   "version": "3.8.8"
  }
 },
 "nbformat": 4,
 "nbformat_minor": 5
}
